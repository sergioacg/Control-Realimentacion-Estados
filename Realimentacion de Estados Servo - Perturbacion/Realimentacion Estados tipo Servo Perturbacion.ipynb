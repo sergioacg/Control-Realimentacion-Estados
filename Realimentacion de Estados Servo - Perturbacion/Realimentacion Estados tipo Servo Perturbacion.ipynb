{
 "cells": [
  {
   "cell_type": "markdown",
   "metadata": {},
   "source": [
    "## Realimentación de estados tipo SERVO Rechazo de PERTURBACIÓN\n",
    "  by: Sergio Andres Castaño Giraldo\n",
    "  \n",
    "  Rio de Janeiro - 2020\n",
    "  \n",
    "  https://controlautomaticoeducacion.com/sistemas-dinamicos-lineales\n",
    "______________________________________________________________________"
   ]
  },
  {
   "cell_type": "code",
   "execution_count": 1,
   "metadata": {},
   "outputs": [],
   "source": [
    "from scipy import signal\n",
    "import scipy.linalg as la\n",
    "import matplotlib.pyplot as plt\n",
    "import numpy as np\n",
    "\n",
    "# install control \n",
    "# https://python-control.readthedocs.io/en/latest/intro.html\n",
    "try:\n",
    "    from control.matlab import *\n",
    "except:\n",
    "    !pip install slycot   \n",
    "    !pip install control\n",
    "    #conda install -c conda-forge control\n",
    "    # restart kernel if this doesn't import\n",
    "    from control.matlab import *"
   ]
  },
  {
   "cell_type": "markdown",
   "metadata": {},
   "source": [
    "# Suponga que tenemos el siguiente sistema que NO está en la FCC:\n",
    "\n",
    "$\\dot{\\vec{x}}=\\begin{bmatrix}\n",
    "0& 1 & 0 & 0\\\\\n",
    "0 & 0 & -1 &0 \\\\\n",
    "0 & 0 & 0 &1 \\\\\n",
    "0 & 0 & 5 &0\n",
    "\\end{bmatrix}\\vec{x}+\\begin{bmatrix}0\\\\1\\\\0\\\\-2\\end{bmatrix}(u(t)+w(t))$\n",
    "\n",
    "$y(s)=\\begin{bmatrix}1 & 0 & 0&0 \\end{bmatrix}\\vec{x}$\n"
   ]
  },
  {
   "cell_type": "code",
   "execution_count": 2,
   "metadata": {},
   "outputs": [
    {
     "name": "stdout",
     "output_type": "stream",
     "text": [
      "El rango de la matriz Co=  4\n"
     ]
    }
   ],
   "source": [
    "# Sistema\n",
    "a = np.array([[0,1,0,0],[0,0,-1,0],[0,0,0,1],[0,0,5,0]]);\n",
    "b = np.array([[0],[1],[0],[-2]]);\n",
    "c = np.array([1, 0, 0, 0]);\n",
    "d = 0;\n",
    "\n",
    "#Sistema en Espacio de Estados\n",
    "sys=ss(a,b,c,d);\n",
    "#sys = signal.StateSpace(A,b,c,0);\n",
    "#sys = StateSpace(A,b,c,0);\n",
    "\n",
    "#Controlabilidad\n",
    "Co = ctrb(a,b)\n",
    "#Rango de la matriz de controlabilidad\n",
    "print('El rango de la matriz Co= ', np.linalg.matrix_rank(Co))"
   ]
  },
  {
   "cell_type": "markdown",
   "metadata": {},
   "source": [
    "# Sistema aumentado: Planta + Controlador\n",
    "\n",
    "$\\begin{bmatrix}\\dot{\\mathbf{x}}(t)\\\\\\dot{\\mathbf{\\xi}}(t)\\end{bmatrix}=\\begin{bmatrix}\n",
    "\\mathbf{A}& 0 \\\\\n",
    "\\mathbf{-C} & \\mathbf{0}\n",
    "\\end{bmatrix}\n",
    "\\begin{bmatrix}{\\mathbf{x}}(t)\\\\{\\mathbf{\\xi}}(t)\\end{bmatrix}\n",
    "+\\begin{bmatrix}\\mathbf{B}\\\\\\mathbf{0}\\end{bmatrix}(\\mathbf{u}(t)+\\mathbf{w}(t))+\n",
    "\\begin{bmatrix}\\mathbf{0}\\\\\\mathbf{I} \\end{bmatrix}\\mathbf{r}(t)$\n",
    "\n",
    "Expresado de forma compacta\n",
    "\n",
    "$\\dot{\\mathbf{x_a}}(t)=\\mathbf{A_ax_a}(t)+\\mathbf{B_a}\\left( u(t) + w(t) \\right)+\\mathbf{E_a}r(t)$\n",
    "\n",
    "$y(t)=\\mathbf{C_ax_a}(t)$"
   ]
  },
  {
   "cell_type": "code",
   "execution_count": 3,
   "metadata": {},
   "outputs": [],
   "source": [
    "Za = np.zeros((len(a),1)); #Vector de ceros\n",
    "Ca = np.append(c,0);\n",
    "Aa = np.hstack((a,Za));\n",
    "Aa = np.vstack((Aa,-Ca));\n",
    "Ba = np.append([b],[0])[np.newaxis];\n",
    "Ba = np.transpose(Ba);\n",
    "Ea = np.append([Za],[1])[np.newaxis];\n",
    "Ea = np.transpose(Ea);\n",
    "#sys_a =ss(Aa,np.hstack([Ba, Ea]),Ca,0)"
   ]
  },
  {
   "cell_type": "markdown",
   "metadata": {},
   "source": [
    "# Realimentación de Estados"
   ]
  },
  {
   "cell_type": "code",
   "execution_count": 4,
   "metadata": {},
   "outputs": [],
   "source": [
    "# Polos deseados sin integrador\n",
    "polos = np.roots(np.convolve([1,5],[1, 5, 10.5, 11, 5]));"
   ]
  },
  {
   "cell_type": "code",
   "execution_count": 5,
   "metadata": {},
   "outputs": [
    {
     "name": "stdout",
     "output_type": "stream",
     "text": [
      "[K1, k2]:  [[-20.         -23.94444444 -30.25       -16.97222222   8.33333333]]\n"
     ]
    }
   ],
   "source": [
    "K = place(Aa,Ba,polos)\n",
    "print('[K1, k2]: ',K)"
   ]
  },
  {
   "cell_type": "markdown",
   "metadata": {},
   "source": [
    "# Lazo cerrado\n",
    "$\\dot{\\mathbf{x_a}}(t)=\\mathbf{(A_a-B_aK_a)x_a}(t)+\\mathbf{E_a}r(t)+\\mathbf{B_a}w(t)$\n",
    "\n",
    "$y(t)=\\mathbf{C_ax_a}(t)$"
   ]
  },
  {
   "cell_type": "code",
   "execution_count": 6,
   "metadata": {},
   "outputs": [
    {
     "name": "stdout",
     "output_type": "stream",
     "text": [
      "[-5. +0.j  -1.5+0.5j -1.5-0.5j -1. +1.j  -1. -1.j ]\n"
     ]
    }
   ],
   "source": [
    "Af=Aa-Ba*K\n",
    "Ef = la.eig(Af);\n",
    "print(Ef[0])"
   ]
  },
  {
   "cell_type": "code",
   "execution_count": 7,
   "metadata": {},
   "outputs": [
    {
     "name": "stdout",
     "output_type": "stream",
     "text": [
      "A = [[  0.           1.           0.           0.           0.        ]\n",
      " [ 20.          23.94444444  29.25        16.97222222  -8.33333333]\n",
      " [  0.           0.           0.           1.           0.        ]\n",
      " [-40.         -47.88888889 -55.5        -33.94444444  16.66666667]\n",
      " [ -1.           0.           0.           0.           0.        ]]\n",
      "\n",
      "B = [[ 0.  0.]\n",
      " [ 0.  1.]\n",
      " [ 0.  0.]\n",
      " [ 0. -2.]\n",
      " [ 1.  0.]]\n",
      "\n",
      "C = [[1. 0. 0. 0. 0.]]\n",
      "\n",
      "D = [[0. 0.]]\n",
      "\n"
     ]
    }
   ],
   "source": [
    "#Coloca Ea y Ba en una sola matriz y lo ingresa al sistema como la matriz B\n",
    "sys_f=ss(Af,np.hstack((Ea,Ba)),Ca,0)\n",
    "print(sys_f)"
   ]
  },
  {
   "cell_type": "code",
   "execution_count": 8,
   "metadata": {},
   "outputs": [],
   "source": [
    "#Vector de tiempo\n",
    "t=linspace(0,30,100);\n",
    "#vector de referencia\n",
    "r=np.ones(100);\n",
    "#Vector de perturbación\n",
    "w = np.hstack((np.zeros(50),1.5*np.ones(50)));\n",
    "#Entrada del sistema\n",
    "inp = np.vstack((r,w));\n",
    "inp = np.transpose(inp);"
   ]
  },
  {
   "cell_type": "code",
   "execution_count": 9,
   "metadata": {},
   "outputs": [
    {
     "data": {
      "image/png": "[encoded data removed]",
      "text/plain": [
       "<Figure size 432x288 with 1 Axes>"
      ]
     },
     "metadata": {
      "needs_background": "light"
     },
     "output_type": "display_data"
    }
   ],
   "source": [
    "#Respuesta del sistema\n",
    "yi, t, xout = lsim(sys_f, inp, t)\n",
    "#yi, t = step(sys_f, ts)\n",
    "plt.figure(1)\n",
    "plt.plot(t,r,t,yi)\n",
    "plt.title('Realimentación de Estados tipo servo');\n",
    "plt.xlabel('Tiempo [s]')\n",
    "plt.ylabel('Salida)')\n",
    "plt.grid(True)"
   ]
  },
  {
   "cell_type": "code",
   "execution_count": null,
   "metadata": {},
   "outputs": [],
   "source": []
  },
  {
   "cell_type": "code",
   "execution_count": null,
   "metadata": {},
   "outputs": [],
   "source": []
  },
  {
   "cell_type": "code",
   "execution_count": null,
   "metadata": {},
   "outputs": [],
   "source": []
  }
 ],
 "metadata": {
  "kernelspec": {
   "display_name": "Python 3",
   "language": "python",
   "name": "python3"
  },
  "language_info": {
   "codemirror_mode": {
    "name": "ipython",
    "version": 3
   },
   "file_extension": ".py",
   "mimetype": "text/x-python",
   "name": "python",
   "nbconvert_exporter": "python",
   "pygments_lexer": "ipython3",
   "version": "3.7.6"
  }
 },
 "nbformat": 4,
 "nbformat_minor": 4
}
