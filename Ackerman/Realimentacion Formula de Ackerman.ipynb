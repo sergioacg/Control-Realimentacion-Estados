{
 "cells": [
  {
   "cell_type": "markdown",
   "metadata": {},
   "source": [
    "## Realimentación de Estados usando la formula de Ackerman\n",
    "by: Sergio Andres Castaño Giraldo\n",
    "\n",
    "https://controlautomaticoeducacion.com/\n",
    "\n"
   ]
  },
  {
   "cell_type": "code",
   "execution_count": 1,
   "metadata": {},
   "outputs": [],
   "source": [
    "from scipy import signal\n",
    "import scipy.linalg as la\n",
    "import matplotlib.pyplot as plt\n",
    "import numpy as np\n",
    "\n",
    "# install control \n",
    "# https://python-control.readthedocs.io/en/latest/intro.html\n",
    "try:\n",
    "    from control.matlab import *\n",
    "except:\n",
    "    !pip install slycot   \n",
    "    !pip install control\n",
    "    #conda install -c conda-forge control\n",
    "    # restart kernel if this doesn't import\n",
    "    from control.matlab import *\n",
    "    "
   ]
  },
  {
   "cell_type": "markdown",
   "metadata": {},
   "source": [
    "Tomando un sistema en la forma FCC:\n",
    "\n",
    "$\\dot{\\vec{x}}=\\begin{bmatrix}\n",
    "0 & 1\\\\\n",
    "1 & 0\n",
    "\\end{bmatrix}\\vec{x}+\\begin{bmatrix}\n",
    "1\\\\\n",
    "0\n",
    "\\end{bmatrix}u$"
   ]
  },
  {
   "cell_type": "code",
   "execution_count": 2,
   "metadata": {},
   "outputs": [
    {
     "name": "stdout",
     "output_type": "stream",
     "text": [
      "2\n"
     ]
    }
   ],
   "source": [
    "# Sistema\n",
    "A = np.array([[0,1],[1,0]]);\n",
    "b = np.array([[1],[0]]);\n",
    "c = np.array([1, 0]);\n",
    "\n",
    "#Sistema en Espacio de Estados\n",
    "sys=ss(A,b,c,0);\n",
    "#sys = signal.StateSpace(A,b,c,0);\n",
    "#sys = StateSpace(A,b,c,0);\n",
    "\n",
    "#Controlabilidad\n",
    "Co = ctrb(A,b)\n",
    "#Rango de la matriz de controlabilidad\n",
    "print(np.linalg.matrix_rank(Co))"
   ]
  },
  {
   "cell_type": "markdown",
   "metadata": {},
   "source": [
    "Definimos una ecuación característica deseada\n",
    "\n",
    "$\\Delta_f(\\lambda)=\\lambda^2+7\\lambda+3$"
   ]
  },
  {
   "cell_type": "code",
   "execution_count": 26,
   "metadata": {},
   "outputs": [
    {
     "name": "stdout",
     "output_type": "stream",
     "text": [
      "[1 7 3]\n"
     ]
    }
   ],
   "source": [
    "Ps= np.array([1, 7, 3]);\n",
    "Ed=np.roots(Ps)\n",
    "print(Ps)"
   ]
  },
  {
   "cell_type": "code",
   "execution_count": 57,
   "metadata": {},
   "outputs": [
    {
     "name": "stdout",
     "output_type": "stream",
     "text": [
      "Ganancia de Realimentacion de Estados:  [[7. 4.]]\n"
     ]
    }
   ],
   "source": [
    "# Ganancia k\n",
    "phi=0;\n",
    "n=len(A);\n",
    "\n",
    "for i in range(2,-1,-1):\n",
    "    phi = phi + Ps[n-i]*np.linalg.matrix_power(A,i);\n",
    "\n",
    "k_bar=np.zeros((1,n));\n",
    "k_bar[...,n-1]=1;\n",
    "\n",
    "#Inversa de Co\n",
    "iCo = la.inv(Co);\n",
    "\n",
    "#Ganancia de realimentación de estados\n",
    "k1 = k_bar@iCo@phi\n",
    "print('Ganancia de Realimentacion de Estados: ',k1)"
   ]
  },
  {
   "cell_type": "code",
   "execution_count": 58,
   "metadata": {},
   "outputs": [
    {
     "name": "stdout",
     "output_type": "stream",
     "text": [
      "Ganancia de Realimentacion de Estados:  [[7. 4.]]\n"
     ]
    }
   ],
   "source": [
    "# Python Control Systems Library\n",
    "k2 = acker(A,b,Ed)\n",
    "print('Ganancia de Realimentacion de Estados: ',k2)"
   ]
  },
  {
   "cell_type": "markdown",
   "metadata": {},
   "source": [
    "# Lazo Cerrado"
   ]
  },
  {
   "cell_type": "code",
   "execution_count": 59,
   "metadata": {},
   "outputs": [
    {
     "name": "stdout",
     "output_type": "stream",
     "text": [
      "[-6.54138127+0.j -0.45861873+0.j]\n"
     ]
    }
   ],
   "source": [
    "Af=A-b*k1\n",
    "Ef = la.eig(Af);\n",
    "print(Ef[0])"
   ]
  },
  {
   "cell_type": "code",
   "execution_count": 60,
   "metadata": {},
   "outputs": [],
   "source": [
    "#Condicion inicial\n",
    "x0=[1, 1];\n",
    "#Sistema con realimentación en espacio de estados\n",
    "slc=ss(Af,b,c,0);"
   ]
  },
  {
   "cell_type": "code",
   "execution_count": 61,
   "metadata": {},
   "outputs": [
    {
     "data": {
      "text/plain": [
       "Text(0, 0.5, 'Lazo Cerrado (CI)')"
      ]
     },
     "execution_count": 61,
     "metadata": {},
     "output_type": "execute_result"
    },
    {
     "data": {
      "image/png": "[encoded data removed]",
      "text/plain": [
       "<Figure size 432x288 with 2 Axes>"
      ]
     },
     "metadata": {
      "needs_background": "light"
     },
     "output_type": "display_data"
    }
   ],
   "source": [
    "#Respuesta del sistema\n",
    "ts = linspace(0,20,200);\n",
    "yi, t = initial(sys, ts, x0)\n",
    "plt.figure(1)\n",
    "plt.subplot(211)\n",
    "plt.plot(t,yi)\n",
    "plt.title('Respuesta del Sistema con Condiciones Iniciales');\n",
    "plt.xlabel('Tiempo [s]')\n",
    "plt.ylabel('Lazo Abierto (CI)')\n",
    "\n",
    "yi, t = initial(slc, ts, x0)\n",
    "plt.subplot(212)\n",
    "plt.plot(t,yi)\n",
    "plt.xlabel('Tiempo [s]')\n",
    "plt.ylabel('Lazo Cerrado (CI)')"
   ]
  },
  {
   "cell_type": "code",
   "execution_count": null,
   "metadata": {},
   "outputs": [],
   "source": []
  }
 ],
 "metadata": {
  "kernelspec": {
   "display_name": "Python 3",
   "language": "python",
   "name": "python3"
  },
  "language_info": {
   "codemirror_mode": {
    "name": "ipython",
    "version": 3
   },
   "file_extension": ".py",
   "mimetype": "text/x-python",
   "name": "python",
   "nbconvert_exporter": "python",
   "pygments_lexer": "ipython3",
   "version": "3.7.6"
  }
 },
 "nbformat": 4,
 "nbformat_minor": 4
}
