{
 "cells": [
  {
   "cell_type": "markdown",
   "metadata": {},
   "source": [
    "## Realimentación de Estados usando la Ecuación de Lyapunov\n",
    "\n",
    "by: Sergio Andres Castaño Giraldo\n",
    "\n",
    " https://controlautomaticoeducacion.com/\n",
    " \n",
    " \n",
    "La realimentación de estados es posible realizarla resolviendo un sistema de ecuaciones utilizando una ecuación simular a la ecuación de Lyapunov.\n",
    "\n",
    "Resolver la siguiente ecuación con el fin de encontrar una matriz de transformación de similitud que se adapte a cualquier vector de ganancias establecido:\n",
    "\n",
    "$$\\mathbf{A}-\\mathbf{B}\\mathbf{K}=\\mathbf{T}\\mathbf{F}\\mathbf{T}^{-1}$$"
   ]
  },
  {
   "cell_type": "markdown",
   "metadata": {},
   "source": [
    "# Librerias"
   ]
  },
  {
   "cell_type": "code",
   "execution_count": 1,
   "metadata": {},
   "outputs": [],
   "source": [
    "from scipy import signal\n",
    "import scipy.linalg as la\n",
    "import matplotlib.pyplot as plt\n",
    "import numpy as np\n",
    "\n",
    "# install control \n",
    "# https://python-control.readthedocs.io/en/latest/intro.html\n",
    "try:\n",
    "    from control.matlab import *\n",
    "except:\n",
    "    !pip install slycot   \n",
    "    !pip install control\n",
    "    #conda install -c conda-forge control\n",
    "    # restart kernel if this doesn't import\n",
    "    from control.matlab import *"
   ]
  },
  {
   "cell_type": "markdown",
   "metadata": {},
   "source": [
    "# Ejemplo"
   ]
  },
  {
   "cell_type": "markdown",
   "metadata": {},
   "source": [
    "Tomando un sistema en la forma FCC:\n",
    "\n",
    "$\\dot{\\vec{x}}=\\begin{bmatrix}\n",
    "0 & 1\\\\\n",
    "1 & 0\n",
    "\\end{bmatrix}\\vec{x}+\\begin{bmatrix}\n",
    "1\\\\\n",
    "0\n",
    "\\end{bmatrix}u$"
   ]
  },
  {
   "cell_type": "code",
   "execution_count": 2,
   "metadata": {},
   "outputs": [
    {
     "name": "stdout",
     "output_type": "stream",
     "text": [
      "2\n"
     ]
    }
   ],
   "source": [
    "# Sistema\n",
    "A = np.array([[0,1],[1,0]]);\n",
    "b = np.array([[1],[0]]);\n",
    "c = np.array([1, 0]);\n",
    "\n",
    "#Sistema en Espacio de Estados\n",
    "sys=ss(A,b,c,0);\n",
    "#sys = signal.StateSpace(A,b,c,0);\n",
    "#sys = StateSpace(A,b,c,0);\n",
    "\n",
    "#Controlabilidad\n",
    "Co = ctrb(A,b)\n",
    "#Rango de la matriz de controlabilidad\n",
    "print(np.linalg.matrix_rank(Co))"
   ]
  },
  {
   "cell_type": "markdown",
   "metadata": {},
   "source": [
    "La ecuación característica del sistema es:\n",
    "\n",
    "$\\Delta(\\lambda)=\\lambda^2-1$"
   ]
  },
  {
   "cell_type": "code",
   "execution_count": 3,
   "metadata": {},
   "outputs": [
    {
     "name": "stdout",
     "output_type": "stream",
     "text": [
      "[ 1.+0.j -1.+0.j]\n"
     ]
    }
   ],
   "source": [
    "#Ecuación característica del Sistema\n",
    "E_Ca = la.eig(A);\n",
    "print(E_Ca[0])"
   ]
  },
  {
   "cell_type": "markdown",
   "metadata": {},
   "source": [
    "Definimos una ecuación característica deseada\n",
    "\n",
    "$\\Delta_f(\\lambda)=\\lambda^2+7\\lambda+3$"
   ]
  },
  {
   "cell_type": "code",
   "execution_count": 4,
   "metadata": {},
   "outputs": [
    {
     "name": "stdout",
     "output_type": "stream",
     "text": [
      "[-6.54138127 -0.45861873]\n"
     ]
    }
   ],
   "source": [
    "Ps= [1, 7, 3];\n",
    "Ed=np.roots(Ps)\n",
    "print(Ed)"
   ]
  },
  {
   "cell_type": "markdown",
   "metadata": {},
   "source": [
    "# Procedimiento\n",
    "\n",
    "1. Escoger una ecuación característica deseada para el sistema en lazo cerrado $\\Delta_f(s)$ y determinar una matriz $\\mathbf{F}$ de forma que:\n",
    "\n",
    "$\\Delta_f(s)=det(s\\mathbf{I}-\\mathbf{F})$"
   ]
  },
  {
   "cell_type": "code",
   "execution_count": 5,
   "metadata": {},
   "outputs": [],
   "source": [
    "F = np.array([[0,1],[-3,-7]]);"
   ]
  },
  {
   "cell_type": "markdown",
   "metadata": {},
   "source": [
    "2. Escoger una matriz $\\bar{\\mathbf{K}}\\in \\Re^{p\\times n}$ tal que el par ($\\mathbf{F},\\bar{\\mathbf{K}}$) sea observable."
   ]
  },
  {
   "cell_type": "code",
   "execution_count": 6,
   "metadata": {},
   "outputs": [],
   "source": [
    "k_bar=np.array([0 ,1]);"
   ]
  },
  {
   "cell_type": "markdown",
   "metadata": {},
   "source": [
    "Ahora debo hacer que el par ($\\mathbf{F},\\bar{\\mathbf{K}}$) sea observable\n",
    "\n",
    "$rank\\begin{bmatrix}\n",
    "\\bar{\\mathbf{K}} \\\\ \\mathbf{F}\\bar{\\mathbf{K}}\n",
    "\\end{bmatrix}=\n",
    "rank\\begin{bmatrix}\n",
    "0&1 \\\\ -3 & -7\n",
    "\\end{bmatrix}=2$"
   ]
  },
  {
   "cell_type": "markdown",
   "metadata": {},
   "source": [
    "3. Determinar una matriz $\\mathbf{T}$ a través de la siguiente ecuación:\n",
    "\n",
    "$\\mathbf{A}\\mathbf{T}-\\mathbf{T}\\mathbf{F}=\\mathbf{B}\\bar{\\mathbf{K}}$"
   ]
  },
  {
   "cell_type": "code",
   "execution_count": 7,
   "metadata": {},
   "outputs": [
    {
     "name": "stdout",
     "output_type": "stream",
     "text": [
      "[[ 0.36363636  0.21212121]\n",
      " [-0.63636364 -0.12121212]]\n"
     ]
    }
   ],
   "source": [
    "Aeq = np.array([[0, 3, 1, 0], [-1, 7, 0, 1], [1, 0, 0, 3], [0, 1, -1, 7]])\n",
    "Beq = np.array([0,1,0,0])\n",
    "t = la.solve(Aeq, Beq)\n",
    "T = np.array([[t[0],t[1]],[t[2],t[3]]]);\n",
    "print(T)"
   ]
  },
  {
   "cell_type": "markdown",
   "metadata": {},
   "source": [
    "4. Obtener la ganancia de realimentación de estados por la relación:\n",
    "\n",
    "$\\mathbf{K}=\\bar{\\mathbf{K}}\\mathbf{T}^{-1}$"
   ]
  },
  {
   "cell_type": "code",
   "execution_count": 8,
   "metadata": {},
   "outputs": [
    {
     "name": "stdout",
     "output_type": "stream",
     "text": [
      "[7. 4.]\n"
     ]
    }
   ],
   "source": [
    "iT = la.inv(T);\n",
    "k1 = k_bar@iT;\n",
    "# k1 = np.dot(k_bar,la.inv(T));\n",
    "print(k1)"
   ]
  },
  {
   "cell_type": "markdown",
   "metadata": {},
   "source": [
    "# Lazo cerrado"
   ]
  },
  {
   "cell_type": "code",
   "execution_count": 9,
   "metadata": {},
   "outputs": [
    {
     "name": "stdout",
     "output_type": "stream",
     "text": [
      "[-6.54138127+0.j -0.45861873+0.j]\n"
     ]
    }
   ],
   "source": [
    "Af=A-b*k1\n",
    "Ef = la.eig(Af);\n",
    "print(Ef[0])"
   ]
  },
  {
   "cell_type": "code",
   "execution_count": 10,
   "metadata": {},
   "outputs": [],
   "source": [
    "#Condicion inicial\n",
    "x0=[1, 1];"
   ]
  },
  {
   "cell_type": "code",
   "execution_count": 11,
   "metadata": {},
   "outputs": [],
   "source": [
    "#Sistema con realimentación en espacio de estados\n",
    "slc=ss(Af,b,c,0);"
   ]
  },
  {
   "cell_type": "code",
   "execution_count": 12,
   "metadata": {},
   "outputs": [
    {
     "data": {
      "text/plain": [
       "Text(0, 0.5, 'Lazo Cerrado (CI)')"
      ]
     },
     "execution_count": 12,
     "metadata": {},
     "output_type": "execute_result"
    },
    {
     "data": {
      "image/png": "[encoded data removed]",
      "text/plain": [
       "<Figure size 432x288 with 2 Axes>"
      ]
     },
     "metadata": {
      "needs_background": "light"
     },
     "output_type": "display_data"
    }
   ],
   "source": [
    "#Respuesta del sistema\n",
    "ts = linspace(0,20,200);\n",
    "yi, t = initial(sys, ts, x0)\n",
    "plt.figure(1)\n",
    "plt.subplot(211)\n",
    "plt.plot(t,yi)\n",
    "plt.title('Respuesta del Sistema con Condiciones Iniciales');\n",
    "plt.xlabel('Tiempo [s]')\n",
    "plt.ylabel('Lazo Abierto (CI)')\n",
    "\n",
    "yi, t = initial(slc, ts, x0)\n",
    "plt.subplot(212)\n",
    "plt.plot(t,yi)\n",
    "plt.xlabel('Tiempo [s]')\n",
    "plt.ylabel('Lazo Cerrado (CI)')\n"
   ]
  },
  {
   "cell_type": "code",
   "execution_count": 13,
   "metadata": {},
   "outputs": [
    {
     "data": {
      "text/plain": [
       "Text(0, 0.5, 'Lazo Cerrado (CI)')"
      ]
     },
     "execution_count": 13,
     "metadata": {},
     "output_type": "execute_result"
    },
    {
     "data": {
      "image/png": "[encoded data removed]",
      "text/plain": [
       "<Figure size 432x288 with 2 Axes>"
      ]
     },
     "metadata": {
      "needs_background": "light"
     },
     "output_type": "display_data"
    }
   ],
   "source": [
    "yi, t = step(sys)\n",
    "plt.figure(2)\n",
    "plt.subplot(211)\n",
    "plt.plot(t,yi)\n",
    "plt.title('Respuesta del Sistema con Escalon');\n",
    "plt.xlabel('Tiempo [s]')\n",
    "plt.ylabel('Lazo Abierto (CI)')\n",
    "\n",
    "yi, t = step(slc)\n",
    "plt.subplot(212)\n",
    "plt.plot(t,yi)\n",
    "plt.xlabel('Tiempo [s]')\n",
    "plt.ylabel('Lazo Cerrado (CI)')"
   ]
  },
  {
   "cell_type": "code",
   "execution_count": null,
   "metadata": {},
   "outputs": [],
   "source": []
  }
 ],
 "metadata": {
  "kernelspec": {
   "display_name": "Python 3",
   "language": "python",
   "name": "python3"
  },
  "language_info": {
   "codemirror_mode": {
    "name": "ipython",
    "version": 3
   },
   "file_extension": ".py",
   "mimetype": "text/x-python",
   "name": "python",
   "nbconvert_exporter": "python",
   "pygments_lexer": "ipython3",
   "version": "3.7.6"
  }
 },
 "nbformat": 4,
 "nbformat_minor": 4
}
